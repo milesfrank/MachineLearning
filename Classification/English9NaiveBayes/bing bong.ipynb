{
 "cells": [
  {
   "cell_type": "code",
   "execution_count": 30,
   "metadata": {},
   "outputs": [],
   "source": [
    "from sklearn.naive_bayes import MultinomialNB\n",
    "from sklearn.feature_extraction.text import CountVectorizer\n",
    "from sklearn.feature_extraction.text import TfidfTransformer"
   ]
  },
  {
   "cell_type": "code",
   "execution_count": 31,
   "metadata": {},
   "outputs": [],
   "source": [
    "text = []\n",
    "files = ['canterbury.txt','dante.txt','frankenstein.txt','genesis.txt','homer.txt','ovid.txt']\n",
    "\n",
    "for file in files:\n",
    "    with open('data/'+file,'r', encoding='utf-8', errors='ignore') as b:\n",
    "        text.append(b.read())"
   ]
  },
  {
   "cell_type": "code",
   "execution_count": 32,
   "metadata": {},
   "outputs": [],
   "source": [
    "word_vector = CountVectorizer()\n",
    "word_vector_counts = word_vector.fit_transform(text)\n",
    "term_freq_transformer = TfidfTransformer()\n",
    "term_freq = term_freq_transformer.fit_transform(word_vector_counts)\n",
    "target = [0,1,2,3,4,5]\n",
    "target_names = ['cant','dante','frank','gen','homer','ovid']\n",
    "bookModel = MultinomialNB().fit(term_freq, target)"
   ]
  },
  {
   "cell_type": "code",
   "execution_count": 33,
   "metadata": {},
   "outputs": [],
   "source": [
    "for file in files:\n",
    "    with open('data/'+file,'r', encoding='utf-8', errors='ignore') as b:\n",
    "        text.append(b.read())"
   ]
  },
  {
   "cell_type": "code",
   "execution_count": 34,
   "metadata": {},
   "outputs": [],
   "source": [
    "# procure essays\n",
    "\n",
    "import os\n",
    "\n",
    "names = ['ian','miles']\n",
    "\n",
    "essays = {}\n",
    "\n",
    "for name in names:\n",
    "    essays[name]={} # make dict called a name\n",
    "    for r, d, f in os.walk('./'+name+'/'): # get root, directory, and files from a name\n",
    "        for file in f: # take each file\n",
    "            if '.txt' in file: # if it's a text file\n",
    "                with open(r+file, 'r', encoding='utf-8', errors='ignore') as essay: # open\n",
    "                    essays[name][file.replace(name,'').replace('.txt','')] = essay.read() # place it at essays[name][title]\n",
    "                    \n"
   ]
  },
  {
   "cell_type": "code",
   "execution_count": 35,
   "metadata": {},
   "outputs": [],
   "source": [
    "doc = ''\n",
    "with open('lab1a.txt','r', encoding='utf-8', errors='ignore') as b:\n",
    "    doc = b.read()"
   ]
  },
  {
   "cell_type": "code",
   "execution_count": 36,
   "metadata": {},
   "outputs": [
    {
     "name": "stdout",
     "output_type": "stream",
     "text": [
      "Predictions:\n",
      "\tgamer => cant\n",
      "Probabilities:\n",
      "cant             dante            frank            gen              homer            ovid             \n",
      "0.16666667       0.16666667       0.16666667       0.16666667       0.16666667       0.16666667       \n"
     ]
    }
   ],
   "source": [
    "labels = ['lab1a']\n",
    "# fake_docs = [doc]\n",
    "fake_docs = ['gamer']\n",
    "fake_counts = word_vector.transform(fake_docs)\n",
    "fake_term_freq = term_freq_transformer.transform(fake_counts)\n",
    "\n",
    "predicted = bookModel.predict(fake_term_freq)\n",
    "print('Predictions:')\n",
    "for doc, group in zip(fake_docs, predicted):\n",
    "    print('\\t{0} => {1}'.format(doc, target_names[group])) \n",
    "# for label, group in zip(labels, predicted):\n",
    "#     print('\\t{0} => {1}'.format(label, target_names[group]))\n",
    "\n",
    "probabilities = bookModel.predict_proba(fake_term_freq)\n",
    "print('Probabilities:')\n",
    "print(''.join(['{:17}'.format(name) for name in target_names]))\n",
    "for probs in probabilities:\n",
    "    print(''.join(['{:<17.8}'.format(prob) for prob in probs]))"
   ]
  },
  {
   "cell_type": "code",
   "execution_count": 50,
   "metadata": {},
   "outputs": [],
   "source": [
    "essayList = []\n",
    "for person in essays:\n",
    "    for essay in essays[person]:\n",
    "        essayList.append(essays[person][essay])"
   ]
  },
  {
   "cell_type": "code",
   "execution_count": 52,
   "metadata": {},
   "outputs": [],
   "source": [
    "word_vector = CountVectorizer()\n",
    "word_vector_counts = word_vector.fit_transform(essayList)\n",
    "term_freq_transformer = TfidfTransformer()\n",
    "term_freq = term_freq_transformer.fit_transform(word_vector_counts)\n",
    "target = [0,0,0,0,0,1,1,1,1,1]\n",
    "target_names = ['ian']*5+['miles']*5\n",
    "essayModel = MultinomialNB().fit(term_freq, target)"
   ]
  },
  {
   "cell_type": "code",
   "execution_count": null,
   "metadata": {},
   "outputs": [],
   "source": [
    "labels = ['lab1a']\n",
    "# fake_docs = [doc]\n",
    "fake_docs = ['gamer']\n",
    "fake_counts = word_vector.transform(fake_docs)\n",
    "fake_term_freq = term_freq_transformer.transform(fake_counts)\n",
    "\n",
    "predicted = bookModel.predict(fake_term_freq)\n",
    "print('Predictions:')\n",
    "for doc, group in zip(fake_docs, predicted):\n",
    "    print('\\t{0} => {1}'.format(doc, target_names[group])) \n",
    "# for label, group in zip(labels, predicted):\n",
    "#     print('\\t{0} => {1}'.format(label, target_names[group]))\n",
    "\n",
    "probabilities = bookModel.predict_proba(fake_term_freq)\n",
    "print('Probabilities:')\n",
    "print(''.join(['{:17}'.format(name) for name in target_names]))\n",
    "for probs in probabilities:\n",
    "    print(''.join(['{:<17.8}'.format(prob) for prob in probs]))"
   ]
  }
 ],
 "metadata": {
  "kernelspec": {
   "display_name": "Python 3",
   "language": "python",
   "name": "python3"
  },
  "language_info": {
   "codemirror_mode": {
    "name": "ipython",
    "version": 3
   },
   "file_extension": ".py",
   "mimetype": "text/x-python",
   "name": "python",
   "nbconvert_exporter": "python",
   "pygments_lexer": "ipython3",
   "version": "3.7.4"
  }
 },
 "nbformat": 4,
 "nbformat_minor": 2
}

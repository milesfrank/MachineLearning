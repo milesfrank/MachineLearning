{
 "cells": [
  {
   "cell_type": "markdown",
   "metadata": {},
   "source": [
    "# A Naive Bayes model for English 9 texts\n",
    "\n",
    "This was worked on by both Ian and Miles"
   ]
  },
  {
   "cell_type": "code",
   "execution_count": null,
   "metadata": {},
   "outputs": [],
   "source": [
    "from sklearn.naive_bayes import MultinomialNB\n",
    "from sklearn.feature_extraction.text import CountVectorizer\n",
    "from sklearn.feature_extraction.text import TfidfTransformer"
   ]
  },
  {
   "cell_type": "code",
   "execution_count": 11,
   "metadata": {},
   "outputs": [],
   "source": [
    "# procure book\n",
    "\n",
    "books = []\n",
    "files = ['canterbury.txt','dante.txt','frankenstein.txt','genesis.txt','homer.txt','ovid.txt']\n",
    "\n",
    "for file in files:\n",
    "    with open('data/'+file,'r', encoding='utf-8', errors='ignore') as b:\n",
    "        books.append(b.read())"
   ]
  },
  {
   "cell_type": "code",
   "execution_count": 12,
   "metadata": {},
   "outputs": [],
   "source": [
    "# procure essays\n",
    "\n",
    "import os\n",
    "\n",
    "names = ['ian','miles']\n",
    "\n",
    "essays = {}\n",
    "\n",
    "for name in names:\n",
    "    essays[name]={} # make dict called a name\n",
    "    for r, d, f in os.walk('./'+name+'/'): # get root, directory, and files from a name\n",
    "        for file in f: # take each file\n",
    "            if '.txt' in file: # if it's a text file\n",
    "                with open(r+file, 'r', encoding='utf-8', errors='ignore') as essay: # open\n",
    "                    essays[name][file.replace(name,'').replace('.txt','')] = essay.read() # place it at essays[name][title]\n",
    "                    \n"
   ]
  },
  {
   "cell_type": "code",
   "execution_count": 19,
   "metadata": {},
   "outputs": [],
   "source": [
    "# make book model\n",
    "\n",
    "word_vectorBook = CountVectorizer()\n",
    "word_vector_countsBook = word_vectorBook.fit_transform(books)\n",
    "term_freq_transformerBook = TfidfTransformer()\n",
    "term_freqBook = term_freq_transformerBook.fit_transform(word_vector_countsBook)\n",
    "targetBook = [0,1,2,3,4,5]\n",
    "target_namesBook = ['cant','dante','frank','gen','homer','ovid']\n",
    "bookModel = MultinomialNB().fit(term_freqBook, targetBook)"
   ]
  },
  {
   "cell_type": "code",
   "execution_count": 20,
   "metadata": {},
   "outputs": [],
   "source": [
    "# choose docs\n",
    "\n",
    "docs = []\n",
    "paths = ['lab1a.txt']\n",
    "for path in paths:\n",
    "    with open(path,'r', encoding='utf-8', errors='ignore') as b:\n",
    "        docs.append(b.read())"
   ]
  },
  {
   "cell_type": "code",
   "execution_count": 22,
   "metadata": {},
   "outputs": [
    {
     "name": "stdout",
     "output_type": "stream",
     "text": [
      "Predictions:\n",
      "\tlab1a => dante\n",
      "Probabilities:\n",
      "cant             dante            frank            gen              homer            ovid             \n",
      "0.1690784        0.17225677       0.16992464       0.14868331       0.16906877       0.1709881        \n"
     ]
    }
   ],
   "source": [
    "labels = ['lab1a']\n",
    "fake_docs = docs\n",
    "fake_counts = word_vectorBook.transform(fake_docs)\n",
    "fake_term_freq = term_freq_transformerBook.transform(fake_counts)\n",
    "\n",
    "predicted = bookModel.predict(fake_term_freq)\n",
    "print('Predictions:')\n",
    "\n",
    "# for doc, group in zip(fake_docs, predicted):\n",
    "#     print('\\t{0} => {1}'.format(doc, target_names[group])) \n",
    "    \n",
    "for label, group in zip(labels, predicted):\n",
    "    print('\\t{0} => {1}'.format(label, target_namesBook[group]))\n",
    "\n",
    "probabilities = bookModel.predict_proba(fake_term_freq)\n",
    "print('Probabilities:')\n",
    "print(''.join(['{:17}'.format(name) for name in target_namesBook]))\n",
    "for probs in probabilities:\n",
    "    print(''.join(['{:<17.8}'.format(prob) for prob in probs]))"
   ]
  },
  {
   "cell_type": "code",
   "execution_count": 23,
   "metadata": {},
   "outputs": [],
   "source": [
    "# make essayList\n",
    "\n",
    "essayList = []\n",
    "for person in essays:\n",
    "    for essay in essays[person]:\n",
    "        essayList.append(essays[person][essay])"
   ]
  },
  {
   "cell_type": "code",
   "execution_count": 24,
   "metadata": {},
   "outputs": [],
   "source": [
    "# make essay model\n",
    "\n",
    "word_vector = CountVectorizer()\n",
    "word_vector_counts = word_vector.fit_transform(essayList)\n",
    "term_freq_transformer = TfidfTransformer()\n",
    "term_freq = term_freq_transformer.fit_transform(word_vector_counts)\n",
    "target = [0,0,0,0,0,1,1,1,1,1]\n",
    "target_names = ['ian','miles']\n",
    "essayModel = MultinomialNB().fit(term_freq, target)"
   ]
  },
  {
   "cell_type": "code",
   "execution_count": 25,
   "metadata": {},
   "outputs": [],
   "source": [
    "# choose docs\n",
    "\n",
    "docs = []\n",
    "paths = ['ianNLMG.txt','milesNLMG.txt']\n",
    "for path in paths:\n",
    "    with open(path,'r', encoding='utf-8', errors='ignore') as b:\n",
    "        docs.append(b.read())"
   ]
  },
  {
   "cell_type": "code",
   "execution_count": 26,
   "metadata": {},
   "outputs": [
    {
     "name": "stdout",
     "output_type": "stream",
     "text": [
      "Predictions:\n",
      "\tian => miles\n",
      "\tmiles => miles\n",
      "Probabilities:\n",
      "ian              miles            \n",
      "0.49055494       0.50944506       \n",
      "0.4642479        0.5357521        \n"
     ]
    }
   ],
   "source": [
    "\n",
    "\n",
    "labels = ['ian','miles']\n",
    "fake_docs = docs\n",
    "fake_counts = word_vector.transform(fake_docs)\n",
    "fake_term_freq = term_freq_transformer.transform(fake_counts)\n",
    "\n",
    "predicted = essayModel.predict(fake_term_freq)\n",
    "print('Predictions:')\n",
    "\n",
    "# for doc, group in zip(fake_docs, predicted):\n",
    "#     print('\\t{0} => {1}'.format(doc, target_names[group])) \n",
    "\n",
    "for label, group in zip(labels, predicted):\n",
    "    print('\\t{0} => {1}'.format(label, target_names[group]))\n",
    "\n",
    "probabilities = essayModel.predict_proba(fake_term_freq)\n",
    "print('Probabilities:')\n",
    "print(''.join(['{:17}'.format(name) for name in target_names]))\n",
    "for probs in probabilities:\n",
    "    print(''.join(['{:<17.8}'.format(prob) for prob in probs]))"
   ]
  },
  {
   "cell_type": "code",
   "execution_count": null,
   "metadata": {},
   "outputs": [],
   "source": []
  }
 ],
 "metadata": {
  "kernelspec": {
   "display_name": "Python 3",
   "language": "python",
   "name": "python3"
  },
  "language_info": {
   "codemirror_mode": {
    "name": "ipython",
    "version": 3
   },
   "file_extension": ".py",
   "mimetype": "text/x-python",
   "name": "python",
   "nbconvert_exporter": "python",
   "pygments_lexer": "ipython3",
   "version": "3.7.4"
  }
 },
 "nbformat": 4,
 "nbformat_minor": 2
}

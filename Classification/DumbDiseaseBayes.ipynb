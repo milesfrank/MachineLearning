{
 "cells": [
  {
   "cell_type": "code",
   "execution_count": 15,
   "metadata": {},
   "outputs": [],
   "source": [
    "from collections import Counter\n",
    "import numpy as np\n",
    "import re"
   ]
  },
  {
   "cell_type": "code",
   "execution_count": 97,
   "metadata": {},
   "outputs": [],
   "source": [
    "def splitData(data):\n",
    "    split = {}\n",
    "    for i in data:\n",
    "        split[i] = []\n",
    "        for sent in data[i]:\n",
    "            split[i] += re.sub('[^\\w]', ' ', sent).split()\n",
    "    return split"
   ]
  },
  {
   "cell_type": "code",
   "execution_count": 107,
   "metadata": {},
   "outputs": [],
   "source": [
    "data1 = {'a':['a']*10, 'b':['b']*10, 'c':['c']*10}"
   ]
  },
  {
   "cell_type": "code",
   "execution_count": 108,
   "metadata": {},
   "outputs": [],
   "source": [
    "def train(data):\n",
    "    data = splitData(data)\n",
    "    wordCounts = {}\n",
    "    for i in data:\n",
    "        wordCounts[i] = Counter(data[i])\n",
    "    return wordCounts"
   ]
  },
  {
   "cell_type": "code",
   "execution_count": 109,
   "metadata": {},
   "outputs": [
    {
     "name": "stdout",
     "output_type": "stream",
     "text": [
      "{'a': Counter({'a': 10}), 'b': Counter({'b': 10}), 'c': Counter({'c': 10})}\n"
     ]
    }
   ],
   "source": [
    "print(train(data1))"
   ]
  },
  {
   "cell_type": "code",
   "execution_count": null,
   "metadata": {},
   "outputs": [],
   "source": []
  }
 ],
 "metadata": {
  "kernelspec": {
   "display_name": "Python 3",
   "language": "python",
   "name": "python3"
  },
  "language_info": {
   "codemirror_mode": {
    "name": "ipython",
    "version": 3
   },
   "file_extension": ".py",
   "mimetype": "text/x-python",
   "name": "python",
   "nbconvert_exporter": "python",
   "pygments_lexer": "ipython3",
   "version": "3.7.4"
  }
 },
 "nbformat": 4,
 "nbformat_minor": 2
}

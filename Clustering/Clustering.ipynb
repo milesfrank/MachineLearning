{
 "cells": [
  {
   "cell_type": "markdown",
   "metadata": {},
   "source": [
    "# Option 1\n",
    "For DBSCAN it seems like the epsilon matters more than the minPoints because (at least in the provided data sets) there are enough points that any point will have enough points around it. However, a small change in the epsilon can create a whole new cluster or isolate points as noise if there is randomly big enough of a gap."
   ]
  },
  {
   "cell_type": "markdown",
   "metadata": {},
   "source": [
    "# Option 3\n",
    "I tried to implement DBSCAN but there are some random errors that I had no idea how to fix."
   ]
  },
  {
   "cell_type": "code",
   "execution_count": 286,
   "metadata": {},
   "outputs": [],
   "source": [
    "import numpy as np\n",
    "import matplotlib.pyplot as plt\n",
    "np.set_printoptions(suppress=True)"
   ]
  },
  {
   "cell_type": "code",
   "execution_count": 283,
   "metadata": {},
   "outputs": [],
   "source": [
    "def dbscan(e, n):\n",
    "    curClusterNum = 0\n",
    "    while(len(np.where(data == -1)[0]) > 0):\n",
    "        index = np.random.choice(np.where(data == -1)[0])\n",
    "        print(np.where(data == -1)[0], index)\n",
    "        doFirstPoint(e, n, index, curClusterNum)\n",
    "        curClusterNum += 1\n",
    "    \n",
    "    return data\n",
    "    \n",
    "def doOnePoint(e, n, i, cluster):\n",
    "#     print(c)\n",
    "    index = i\n",
    "    startPoint = data[index]\n",
    "    print(startPoint, 's1')\n",
    "    closePoints = findClose(e, n, startPoint)\n",
    "    data[index][2] = cluster\n",
    "    print(closePoints, 'c')\n",
    "    print(startPoint, 's')\n",
    "    for point in closePoints:\n",
    "        point[2] = cluster\n",
    "        print(point, 's')\n",
    "        index = np.where(closePoints == point)\n",
    "        doOnePoint(e, n, index, cluster)\n",
    "\n",
    "def doFirstPoint(e, n, i, cluster):\n",
    "#     print('hi')\n",
    "    index = i\n",
    "    startPoint = data[index]\n",
    "    print(startPoint, 's1')\n",
    "    closePoints = findClose(e, n, startPoint)\n",
    "    if(len(closePoints) >= n):\n",
    "        data[index][2] = cluster\n",
    "        print(closePoints, 'c')\n",
    "        print(startPoint, 's')\n",
    "        for point in closePoints:\n",
    "            point[2] = cluster\n",
    "            print(point, 'p')\n",
    "            index = np.where(closePoints == point)\n",
    "            print(np.where(closePoints == point))\n",
    "            doOnePoint(e, n, index, cluster)\n",
    "    else:\n",
    "        data[index][2] = -2\n",
    "        \n",
    "def findClose(e, n, initPoint):\n",
    "    closePoints = []\n",
    "    for point in data:\n",
    "        if(point[2] == -1 and initPoint[3] != point[3]):\n",
    "#             print(point)\n",
    "            dist = np.linalg.norm(initPoint[:2]-point[0:2])\n",
    "#             print(p[:2], point[0:2], dist)\n",
    "            if(dist < e):\n",
    "#                 print(dist)\n",
    "                closePoints += [point]\n",
    "#     print([i[3] for i in closePoints])\n",
    "    return closePoints"
   ]
  },
  {
   "cell_type": "code",
   "execution_count": 284,
   "metadata": {},
   "outputs": [
    {
     "name": "stdout",
     "output_type": "stream",
     "text": [
      "[ 0  1  2  3  4  5  6  7  8  9 10 11 12 13 14 15 16 17 18 19] 18\n",
      "[ 0.4   0.26 -1.   18.  ] s1\n",
      "[array([ 0.46,  0.12, -1.  ,  2.  ]), array([ 0.34,  0.4 , -1.  , 12.  ]), array([ 0.4 ,  0.33, -1.  , 14.  ]), array([ 0.34,  0.21, -1.  , 16.  ])] c\n",
      "[ 0.4   0.26  0.   18.  ] s\n",
      "[0.46 0.12 0.   2.  ] p\n",
      "(array([0, 0, 0, 0]), array([0, 1, 2, 3]))\n",
      "[ 0.77  0.65 -1.    0.  ] s1\n",
      "[] c\n",
      "[ 0.77  0.65 -1.    0.  ] s\n",
      "[ 0.34  0.4   0.   12.  ] p\n",
      "(array([0, 1, 1, 1, 1, 3]), array([2, 0, 1, 2, 3, 0]))\n",
      "[-1.    0.27  0.93 -1.    1.    0.21] s1\n",
      "[] c\n",
      "[-1.    0.27  0.93 -1.    1.    0.21] s\n",
      "[ 0.4   0.33  0.   14.  ] p\n",
      "(array([0, 1, 2, 2, 2, 2]), array([2, 2, 0, 1, 2, 3]))\n",
      "[-1.   -1.    0.46  0.12  0.    2.  ] s1\n",
      "[] c\n",
      "[-1.   -1.    0.46  0.12  0.    2.  ] s\n",
      "[ 0.34  0.21  0.   16.  ] p\n",
      "(array([0, 1, 1, 2, 3, 3, 3, 3]), array([2, 0, 2, 2, 0, 1, 2, 3]))\n",
      "[-1.    0.27 -1.    0.    0.21  0.18 -1.    3.  ] s1\n",
      "[] c\n",
      "[-1.    0.27 -1.    0.    0.21  0.18 -1.    3.  ] s\n",
      "[ 0  1  3  4  5  6  7  8  9 10 11 13 15 17 19] 9\n",
      "[ 0.19  0.4  -1.    9.  ] s1\n",
      "[ 0  1  3  4  5  6  7  8 10 11 13 15 17 19] 0\n",
      "[ 0.77  0.65 -1.    0.  ] s1\n",
      "[ 1  3  4  5  6  7  8 10 11 13 15 17 19] 4\n",
      "[ 0.35  0.77 -1.    4.  ] s1\n",
      "[array([ 0.27,  0.93, -1.  ,  1.  ]), array([ 0.36,  0.74, -1.  ,  6.  ]), array([ 0.45,  0.64, -1.  , 10.  ]), array([ 0.4 ,  0.59, -1.  , 11.  ]), array([ 0.17,  0.71, -1.  , 13.  ]), array([ 0.33,  0.82, -1.  , 15.  ])] c\n",
      "[0.35 0.77 3.   4.  ] s\n",
      "[0.27 0.93 3.   1.  ] p\n",
      "(array([0, 0, 0, 0]), array([0, 1, 2, 3]))\n",
      "[ 0.77  0.65 -2.    0.  ] s1\n",
      "[] c\n",
      "[ 0.77  0.65 -2.    0.  ] s\n",
      "[0.36 0.74 3.   6.  ] p\n",
      "(array([0, 1, 1, 1, 1]), array([2, 0, 1, 2, 3]))\n",
      "[-2.    0.27  0.93  3.    1.  ] s1\n",
      "[] c\n",
      "[-2.    0.27  0.93  3.    1.  ] s\n",
      "[ 0.45  0.64  3.   10.  ] p\n",
      "(array([0, 1, 2, 2, 2, 2]), array([2, 2, 0, 1, 2, 3]))\n",
      "[-2.    3.    0.46  0.12  0.    2.  ] s1\n",
      "[] c\n",
      "[-2.    3.    0.46  0.12  0.    2.  ] s\n",
      "[ 0.4   0.59  3.   11.  ] p\n",
      "(array([0, 1, 2, 3, 3, 3, 3]), array([2, 2, 2, 0, 1, 2, 3]))\n",
      "[-2.    3.    0.    0.21  0.18 -1.    3.  ] s1\n",
      "[] c\n",
      "[-2.    3.    0.    0.21  0.18 -1.    3.  ] s\n",
      "[ 0.17  0.71  3.   13.  ] p\n",
      "(array([0, 1, 2, 3, 4, 4, 4, 4]), array([2, 2, 2, 2, 0, 1, 2, 3]))\n",
      "[-2.    3.    0.   -1.    0.35  0.77  3.    4.  ] s1\n",
      "[] c\n",
      "[-2.    3.    0.   -1.    0.35  0.77  3.    4.  ] s\n",
      "[ 0.33  0.82  3.   15.  ] p\n",
      "(array([0, 1, 2, 3, 4, 5, 5, 5, 5]), array([2, 2, 2, 2, 2, 0, 1, 2, 3]))\n",
      "[-2.    3.    0.   -1.    3.    0.49  0.49 -1.    5.  ] s1\n",
      "[] c\n",
      "[-2.    3.    0.   -1.    3.    0.49  0.49 -1.    5.  ] s\n",
      "[ 3  5  7  8 17 19] 7\n",
      "[ 0.86  0.31 -1.    7.  ] s1\n",
      "[ 3  5  8 17 19] 8\n",
      "[ 0.92  0.12 -1.    8.  ] s1\n",
      "[ 3  5 17 19] 17\n",
      "[ 0.57  0.39 -1.   17.  ] s1\n",
      "[ 3  5 19] 5\n",
      "[ 0.49  0.49 -1.    5.  ] s1\n",
      "[ 3 19] 19\n",
      "[ 0.14  0.45 -1.   19.  ] s1\n",
      "[3] 3\n",
      "[ 0.21  0.18 -1.    3.  ] s1\n"
     ]
    },
    {
     "data": {
      "text/plain": [
       "<matplotlib.collections.PathCollection at 0x1213bbbd0>"
      ]
     },
     "execution_count": 284,
     "metadata": {},
     "output_type": "execute_result"
    },
    {
     "data": {
      "image/png": "[encoded data removed]",
      "text/plain": [
       "<Figure size 432x288 with 1 Axes>"
      ]
     },
     "metadata": {
      "needs_background": "light"
     },
     "output_type": "display_data"
    }
   ],
   "source": [
    "numPoints = 20\n",
    "\n",
    "xy = np.random.randint(0, 100, (numPoints,2)).astype(float) / 100\n",
    "preC = np.zeros((numPoints,1))-1\n",
    "pointNum = np.reshape(np.flip(np.arange(0, numPoints)).astype(float), (numPoints,1))\n",
    "\n",
    "\n",
    "data = np.rot90(np.reshape(np.append(np.append(xy, preC), pointNum), (4,numPoints)))\n",
    "dbscan(0.2, 3)\n",
    "\n",
    "x = [i[0] for i in data]\n",
    "y = [i[1] for i in data]\n",
    "c = [i[2] for i in data]\n",
    "\n",
    "plt.scatter(x,y,c=c)"
   ]
  },
  {
   "cell_type": "code",
   "execution_count": 285,
   "metadata": {},
   "outputs": [
    {
     "name": "stdout",
     "output_type": "stream",
     "text": [
      "[[ 0.77  0.65 -2.    0.  ]\n",
      " [ 0.57  0.39 -2.   17.  ]\n",
      " [ 0.92  0.12 -2.    8.  ]\n",
      " [ 0.86  0.31 -2.    7.  ]\n",
      " [ 0.49  0.49 -2.    5.  ]\n",
      " [ 0.19  0.4  -2.    9.  ]\n",
      " [ 0.21  0.18 -2.    3.  ]\n",
      " [ 0.14  0.45 -2.   19.  ]\n",
      " [ 0.46  0.12  0.    2.  ]\n",
      " [ 0.4   0.26  0.   18.  ]\n",
      " [ 0.34  0.4   0.   12.  ]\n",
      " [ 0.4   0.33  0.   14.  ]\n",
      " [ 0.34  0.21  0.   16.  ]\n",
      " [ 0.36  0.74  3.    6.  ]\n",
      " [ 0.45  0.64  3.   10.  ]\n",
      " [ 0.4   0.59  3.   11.  ]\n",
      " [ 0.17  0.71  3.   13.  ]\n",
      " [ 0.33  0.82  3.   15.  ]\n",
      " [ 0.27  0.93  3.    1.  ]\n",
      " [ 0.35  0.77  3.    4.  ]]\n"
     ]
    }
   ],
   "source": [
    "print(data[data[:,2].argsort()])"
   ]
  },
  {
   "cell_type": "code",
   "execution_count": 263,
   "metadata": {},
   "outputs": [],
   "source": [
    "a,b = np.array([ 0.52,  0.51, -1.  ,  2.  ]), np.array([ 0.8 ,  0.42, -1.  ,  8.  ])"
   ]
  },
  {
   "cell_type": "code",
   "execution_count": 264,
   "metadata": {},
   "outputs": [
    {
     "data": {
      "text/plain": [
       "0.2941088233970549"
      ]
     },
     "execution_count": 264,
     "metadata": {},
     "output_type": "execute_result"
    }
   ],
   "source": [
    "np.linalg.norm(a[:2]-b[0:2])"
   ]
  },
  {
   "cell_type": "code",
   "execution_count": null,
   "metadata": {},
   "outputs": [],
   "source": []
  }
 ],
 "metadata": {
  "kernelspec": {
   "display_name": "Python 3",
   "language": "python",
   "name": "python3"
  },
  "language_info": {
   "codemirror_mode": {
    "name": "ipython",
    "version": 3
   },
   "file_extension": ".py",
   "mimetype": "text/x-python",
   "name": "python",
   "nbconvert_exporter": "python",
   "pygments_lexer": "ipython3",
   "version": "3.7.4"
  }
 },
 "nbformat": 4,
 "nbformat_minor": 2
}
